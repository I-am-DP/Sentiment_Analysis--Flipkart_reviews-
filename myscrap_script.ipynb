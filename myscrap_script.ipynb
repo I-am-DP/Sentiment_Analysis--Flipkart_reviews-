{
 "cells": [
  {
   "cell_type": "code",
   "execution_count": 27,
   "id": "1bb477d6",
   "metadata": {},
   "outputs": [
    {
     "name": "stdout",
     "output_type": "stream",
     "text": [
      "<!DOCTYPE html>\n",
      "<html lang=\"en\">\n",
      " <head>\n",
      "  <link href=\"https://rukminim2.flixcart.com\" rel=\"preconnect\"/>\n",
      "  <link href=\"//static-assets-web.flixcart.com/fk-p-linchpin-web/fk-cp-zion/css/app_modules.chunk.905c37.css\" rel=\"stylesheet\"/>\n",
      "  <link href=\"//static-assets-web.flixcart.com/fk-p-linchpin-web/fk-cp-zion/css/app.chunk.d4bb4f.css\" rel=\"stylesheet\"/>\n",
      "  <meta content=\"text/html; charset=utf-8\" http-equiv=\"Content-type\"/>\n",
      "  <meta content=\"IE=Edge\" http-equiv=\"X-UA-Compatible\"/>\n",
      "  <meta content=\n",
      "Count of rows(reviews):10\n",
      "\n",
      "\n",
      "\n",
      "rating:4 \n",
      "\n",
      "\n",
      "summary:Good quality product \n",
      "\n",
      "\n",
      "review:Best phone in this price range \n",
      "\n",
      "\n",
      "location:Jaipur \n",
      "\n",
      "\n",
      "date:19 days ago \n",
      "\n",
      "\n",
      "upvotes:222 \n",
      "\n",
      "\n",
      "downvotes:47 \n",
      "\n",
      "\n"
     ]
    },
    {
     "data": {
      "application/vnd.jupyter.widget-view+json": {
       "model_id": "",
       "version_major": 2,
       "version_minor": 0
      },
      "text/plain": [
       "Search Results Iteration:   0%|          | 0/24 [00:00<?, ?it/s]"
      ]
     },
     "metadata": {},
     "output_type": "display_data"
    },
    {
     "name": "stdout",
     "output_type": "stream",
     "text": [
      "['POCO M6 Pro 5G (Power Black, 128 GB)', 'REDMI 11 Prime (Peppy Purple, 128 GB)']\n",
      "['https://www.flipkart.com/poco-m6-pro-5g-power-black-128-gb/product-reviews/itmef8fa46f89738?pid=MOBGRNZ3ER4N3K4F&lid=LSTMOBGRNZ3ER4N3K4FIYYGCU&marketplace=FLIPKART&q=phones&store=tyy%2F4io&srno=s_1_1&otracker=search&fm=organic&iid=3a1e44f1-20f6-498e-9e21-2af63a4d197d.MOBGRNZ3ER4N3K4F.SEARCH&ppt=None&ppn=None&ssid=wohptrrzqo0000001693547937104&qH=28388ea49f54c5b8', 'https://www.flipkart.com/redmi-11-prime-peppy-purple-128-gb/product-reviews/itm52d6b0fe396e9?pid=MOBGZHFGUHYSHQYM&lid=LSTMOBGZHFGUHYSHQYMWGOOJ0&marketplace=FLIPKART&q=phones&store=tyy%2F4io&srno=s_1_2&otracker=search&fm=organic&iid=3a1e44f1-20f6-498e-9e21-2af63a4d197d.MOBGZHFGUHYSHQYM.SEARCH&ppt=None&ppn=None&ssid=wohptrrzqo0000001693547937104&qH=28388ea49f54c5b8']\n"
     ]
    }
   ],
   "source": [
    "from time import sleep\n",
    "from random import random\n",
    "import pandas as pd\n",
    "import requests\n",
    "from tqdm.notebook import tqdm\n",
    "from bs4 import BeautifulSoup\n",
    "from urllib.parse import urljoin\n",
    "import urllib.parse as urlparse\n",
    "from urllib.parse import parse_qs\n",
    "\n",
    "# Constants\n",
    "BASE_URL = 'https://www.flipkart.com/'\n",
    "SEARCH_QUERY = \"phones\"\n",
    "TOP_N_PRODUCTS = 2\n",
    "REVIEW_PAGES_TO_SCRAPE_FROM_PER_PRODUCT = 2 #10 Reviews exist per page\n",
    "\n",
    "SAMPLE_URL = \"https://www.flipkart.com/poco-m6-pro-5g-power-black-128-gb/p/itmef8fa46f89738?pid=MOBGRNZ3ER4N3K4F&lid=LSTMOBGRNZ3ER4N3K4FIYYGCU&marketplace=FLIPKART&q=phones&store=tyy%2F4io&spotlightTagId=TrendingId_tyy%2F4io&srno=s_1_1&otracker=search&otracker1=search&fm=Search&iid=4b216b86-7d32-47a6-924d-a4b1f3d52950.MOBGRNZ3ER4N3K4F.SEARCH&ppt=sp&ppn=sp&ssid=ygv5uzlqb40000001693306294200&qH=28388ea49f54c5b8\"\n",
    "r = requests.get(SAMPLE_URL)    \n",
    "soup = BeautifulSoup(r.content, 'html.parser') \n",
    "print(soup.prettify()[:500])\n",
    "\n",
    "# Extracting all review blocks\n",
    "## Note col._2wzgFH.K0kLPL means 3 entities namely 'col', ' _2wzgFH' and 'K0kLPL' \n",
    "## This is written in HTML as 'col _2wzgFH K0kLPL'\n",
    "## This can also be seen in Bullet 3\n",
    "\n",
    "rows = soup.find_all('div',attrs={'class':'col _2wzgFH'})\n",
    "print(f\"Count of rows(reviews):{len(rows)}\\n\\n\\n\")\n",
    "# iteration over all blocks\n",
    "for row in rows:\n",
    "    # Print a sample row(review html block)\n",
    "    # print(f\"row:\\n{row} \\n\\n\")\n",
    "    \n",
    "    # finding all rows within the block\n",
    "    sub_row = row.find_all('div',attrs={'class':'row'})\n",
    "        \n",
    "    # extracting text from 1st and 2nd row\n",
    "    rating = sub_row[0].find('div').text\n",
    "    print(f\"rating:{rating} \\n\\n\")\n",
    "    \n",
    "    summary = sub_row[0].find('p').text\n",
    "    print(f\"summary:{summary} \\n\\n\")\n",
    "    \n",
    "    review = sub_row[1].find_all('div')[2].text\n",
    "    print(f\"review:{review} \\n\\n\")\n",
    "    \n",
    "    location = sub_row[3].find('p',attrs={'class':'_2mcZGG'}).find_all('span')[1].text\n",
    "    location = \"\".join(location.split(\",\")[1:]).strip()\n",
    "    print(f\"location:{location} \\n\\n\")\n",
    "    \n",
    "    date = sub_row[3].find_all('p',attrs={'class':'_2sc7ZR'})[1].text\n",
    "    print(f\"date:{date} \\n\\n\")\n",
    "    \n",
    "    \n",
    "    sub_row_2 = row.find_all('div',attrs={'class':'_1e9_Zu'})[0].find_all('span',attrs={'class':'_3c3Px5'})\n",
    "    \n",
    "    upvotes = sub_row_2[0].text\n",
    "    print(f\"upvotes:{upvotes} \\n\\n\")\n",
    "    \n",
    "    downvotes = sub_row_2[1].text\n",
    "    print(f\"downvotes:{downvotes} \\n\\n\")\n",
    "    \n",
    "    break  \n",
    "  \n",
    "def get_popular_product_s_titles_and_urls(search_query : str, popular_products_count_limit : int = None):\n",
    "    \n",
    "    search_url = f\"{BASE_URL}search?q={SEARCH_QUERY}&sort=popularity\"\n",
    "    search_response = requests.get(search_url)\n",
    "    \n",
    "    # Pause the loop for 1-3 seconds to simulate natural setting not overwhelm the server with back to back requests without any pause\n",
    "    # sleep(randint(1,3))\n",
    "    \n",
    "    search_html_soup = BeautifulSoup(search_response.content, 'html.parser')\n",
    "    search_results_products = search_html_soup.find_all('div',attrs={'class':'_2kHMtA'})\n",
    "    \n",
    "    product_titles, product_urls,retail_prices,discount_perc,discounted_price = [],[],[],[],[]\n",
    "    \n",
    "    product_count = 0\n",
    "    \n",
    "    \n",
    "    for product in tqdm(search_results_products, desc=\"Search Results Iteration\", position=0, leave=True):\n",
    "        \n",
    "        ad_mention_subrow = product.find(\"div\", attrs={\"class\":\"_4HTuuX\"})\n",
    "        \n",
    "        is_ad = not not ad_mention_subrow\n",
    "        \n",
    "        if not is_ad:\n",
    "            \n",
    "            title_mention_subrow = product.find(\"a\", attrs={\"class\":\"_1fQZEK\"})\n",
    "            product_title=product.find('div', attrs={\"class\":\"_4rR01T\"}).text\n",
    "            product_relative_url = title_mention_subrow[\"href\"]\n",
    "            Retail_Price= product.find('div', attrs={\"class\":\"_3I9_wc _27UcVY\"}).text\n",
    "            DisPer=product.find('div', attrs={\"class\":\"_3Ay6Sb\"}).text\n",
    "            Disc_price=product.find('div', attrs={\"class\":\"_30jeq3 _1_WHN1\"}).text\n",
    "            #print(product_relative_url)\n",
    "            product_url = urljoin(BASE_URL,product_relative_url)\n",
    "            \n",
    "            parsed_url = urlparse.urlparse(product_url)\n",
    "            parsed_url_path = parsed_url.path\n",
    "            parsed_url_path_split = parsed_url_path.split(\"/\")\n",
    "            parsed_url_path_split[2] = \"product-reviews\"\n",
    "            parsed_url_path_modified = \"/\".join(parsed_url_path_split)\n",
    "            parsed_url_modified = parsed_url._replace(path=parsed_url_path_modified)\n",
    "            product_url = parsed_url_modified.geturl()\n",
    "            \n",
    "            \n",
    "            product_titles.append(product_title)\n",
    "           \n",
    "            product_urls.append(product_url)\n",
    "            retail_prices.append(Retail_Price)\n",
    "            discount_perc.append(DisPer)\n",
    "            discounted_price.append(Disc_price)\n",
    "            product_count += 1\n",
    "            \n",
    "            if popular_products_count_limit and (product_count >= popular_products_count_limit):\n",
    "                break\n",
    "    print(product_titles) \n",
    "    print(product_urls)\n",
    "    return product_titles, product_urls,retail_prices,discount_perc,discounted_price\n",
    "    \n",
    "product_titles, product_urls,retail_prices,discount_perc,discounted_price = get_popular_product_s_titles_and_urls(SEARCH_QUERY, TOP_N_PRODUCTS);"
   ]
  },
  {
   "cell_type": "code",
   "execution_count": 1,
   "id": "e3799fe6",
   "metadata": {},
   "outputs": [
    {
     "name": "stdout",
     "output_type": "stream",
     "text": [
      "<!DOCTYPE html>\n",
      "<html lang=\"en\">\n",
      " <head>\n",
      "  <link href=\"https://rukminim2.flixcart.com\" rel=\"preconnect\"/>\n",
      "  <link href=\"//static-assets-web.flixcart.com/fk-p-linchpin-web/fk-cp-zion/css/app_modules.chunk.905c37.css\" rel=\"stylesheet\"/>\n",
      "  <link href=\"//static-assets-web.flixcart.com/fk-p-linchpin-web/fk-cp-zion/css/app.chunk.d4bb4f.css\" rel=\"stylesheet\"/>\n",
      "  <meta content=\"text/html; charset=utf-8\" http-equiv=\"Content-type\"/>\n",
      "  <meta content=\"IE=Edge\" http-equiv=\"X-UA-Compatible\"/>\n",
      "  <meta content=\n",
      "Count of rows(reviews):10\n",
      "\n",
      "\n",
      "\n",
      "rating:5 \n",
      "\n",
      "\n",
      "summary:Terrific purchase \n",
      "\n",
      "\n",
      "review:a.VFM(Value For Money)b.Best Product of this price.c.If stero speaker was given would have been good.But, this is budget segment we cannot ask too much for this price range.d.Nowadays we ppl are rushing up for going job,school,etc...,18W charger wasn't enough.Atleast they could've given 33W charger.e.I can see there are lot of comments about motherboard issue but, needs to be rectified POCO.f.If you're a passion about photography and this device not suitable for you.g.Most importantly t... \n",
      "\n",
      "\n",
      "location:Vellore \n",
      "\n",
      "\n",
      "date:13 days ago \n",
      "\n",
      "\n",
      "upvotes:11 \n",
      "\n",
      "\n",
      "downvotes:0 \n",
      "\n",
      "\n"
     ]
    },
    {
     "data": {
      "application/vnd.jupyter.widget-view+json": {
       "model_id": "b507ffc066a741f6ba32b4317b61d699",
       "version_major": 2,
       "version_minor": 0
      },
      "text/plain": [
       "Search Results Iteration:   0%|          | 0/24 [00:00<?, ?it/s]"
      ]
     },
     "metadata": {},
     "output_type": "display_data"
    },
    {
     "name": "stdout",
     "output_type": "stream",
     "text": [
      "['POCO C51 (Royal Blue, 64 GB)', 'POCO C51 (Power Black, 64 GB)', 'REDMI 12 (Moonstone Silver, 128 GB)', 'POCO C50 (Royal Blue, 32 GB)', 'SAMSUNG Galaxy F13 (Sunrise Copper, 64 GB)', 'realme C55 (Rainy Night, 128 GB)', 'realme C55 (Rainforest, 128 GB)', 'realme C55 (Rainforest, 64 GB)', 'SAMSUNG Galaxy F13 (Nightsky Green, 64 GB)', 'realme C55 (Rainy Night, 64 GB)', 'realme C55 (Sunshower, 64 GB)', 'realme C55 (Rainforest, 64 GB)', 'SAMSUNG Galaxy F13 (Waterfall Blue, 64 GB)', 'realme C55 (Sunshower, 128 GB)', 'realme C55 (Sunshower, 64 GB)', 'MOTOROLA e13 (Aurora Green, 64 GB)', 'POCO C50 (Country Green, 32 GB)', 'realme C55 (Rainy Night, 64 GB)', 'POCO C55 (Cool Blue, 128 GB)', 'Nokia 105 Single SIM, Keypad Mobile Phone with Wireless FM Radio']\n",
      "['https://www.flipkart.com/poco-c51-royal-blue-64-gb/product-reviews/itm1e4e8373537a7?pid=MOBGZCQFCWNDK89P&lid=LSTMOBGZCQFCWNDK89POEPN6S&marketplace=FLIPKART&q=phones&store=tyy%2F4io&srno=s_1_1&otracker=search&fm=organic&iid=11af80a2-442d-42c5-a973-8d3d4a0a6833.MOBGZCQFCWNDK89P.SEARCH&ppt=None&ppn=None&ssid=jpdg7q6f800000001694403932879&qH=28388ea49f54c5b8', 'https://www.flipkart.com/poco-c51-power-black-64-gb/product-reviews/itm62bcd2634619e?pid=MOBGZCQFWM5HZHXX&lid=LSTMOBGZCQFWM5HZHXXVV2MKC&marketplace=FLIPKART&q=phones&store=tyy%2F4io&srno=s_1_2&otracker=search&fm=organic&iid=11af80a2-442d-42c5-a973-8d3d4a0a6833.MOBGZCQFWM5HZHXX.SEARCH&ppt=None&ppn=None&ssid=jpdg7q6f800000001694403932879&qH=28388ea49f54c5b8', 'https://www.flipkart.com/redmi-12-moonstone-silver-128-gb/product-reviews/itme52e778c12701?pid=MOBGRMFK2MGRNG4Q&lid=LSTMOBGRMFK2MGRNG4QFZLVXT&marketplace=FLIPKART&q=phones&store=tyy%2F4io&srno=s_1_3&otracker=search&fm=organic&iid=11af80a2-442d-42c5-a973-8d3d4a0a6833.MOBGRMFK2MGRNG4Q.SEARCH&ppt=None&ppn=None&ssid=jpdg7q6f800000001694403932879&qH=28388ea49f54c5b8', 'https://www.flipkart.com/poco-c50-royal-blue-32-gb/product-reviews/itma43af9d14952e?pid=MOBGK8WZUTGDEZFA&lid=LSTMOBGK8WZUTGDEZFABJY1QW&marketplace=FLIPKART&q=phones&store=tyy%2F4io&srno=s_1_4&otracker=search&fm=organic&iid=11af80a2-442d-42c5-a973-8d3d4a0a6833.MOBGK8WZUTGDEZFA.SEARCH&ppt=None&ppn=None&ssid=jpdg7q6f800000001694403932879&qH=28388ea49f54c5b8', 'https://www.flipkart.com/samsung-galaxy-f13-sunrise-copper-64-gb/product-reviews/itm0d8c65ec17621?pid=MOBGENJWWRYSFC5P&lid=LSTMOBGENJWWRYSFC5P0ONQMC&marketplace=FLIPKART&q=phones&store=tyy%2F4io&srno=s_1_5&otracker=search&fm=organic&iid=11af80a2-442d-42c5-a973-8d3d4a0a6833.MOBGENJWWRYSFC5P.SEARCH&ppt=None&ppn=None&ssid=jpdg7q6f800000001694403932879&qH=28388ea49f54c5b8', 'https://www.flipkart.com/realme-c55-rainy-night-128-gb/product-reviews/itm054283d14c56e?pid=MOBGNBYJZJEHR4QN&lid=LSTMOBGNBYJZJEHR4QNO7O0KI&marketplace=FLIPKART&q=phones&store=tyy%2F4io&srno=s_1_6&otracker=search&fm=organic&iid=11af80a2-442d-42c5-a973-8d3d4a0a6833.MOBGNBYJZJEHR4QN.SEARCH&ppt=None&ppn=None&ssid=jpdg7q6f800000001694403932879&qH=28388ea49f54c5b8', 'https://www.flipkart.com/realme-c55-rainforest-128-gb/product-reviews/itm054283d14c56e?pid=MOBGNBYJPF2DEADS&lid=LSTMOBGNBYJPF2DEADSUWHGW7&marketplace=FLIPKART&q=phones&store=tyy%2F4io&srno=s_1_7&otracker=search&fm=organic&iid=11af80a2-442d-42c5-a973-8d3d4a0a6833.MOBGNBYJPF2DEADS.SEARCH&ppt=None&ppn=None&ssid=jpdg7q6f800000001694403932879&qH=28388ea49f54c5b8', 'https://www.flipkart.com/realme-c55-rainforest-64-gb/product-reviews/itm054283d14c56e?pid=MOBGNBYJ3GSGXWYQ&lid=LSTMOBGNBYJ3GSGXWYQAWLW8U&marketplace=FLIPKART&q=phones&store=tyy%2F4io&srno=s_1_8&otracker=search&fm=organic&iid=11af80a2-442d-42c5-a973-8d3d4a0a6833.MOBGNBYJ3GSGXWYQ.SEARCH&ppt=None&ppn=None&ssid=jpdg7q6f800000001694403932879&qH=28388ea49f54c5b8', 'https://www.flipkart.com/samsung-galaxy-f13-nightsky-green-64-gb/product-reviews/itmeadfda1bd23fa?pid=MOBGENJWF4KJTPEN&lid=LSTMOBGENJWF4KJTPENS2XJXA&marketplace=FLIPKART&q=phones&store=tyy%2F4io&srno=s_1_9&otracker=search&fm=organic&iid=11af80a2-442d-42c5-a973-8d3d4a0a6833.MOBGENJWF4KJTPEN.SEARCH&ppt=None&ppn=None&ssid=jpdg7q6f800000001694403932879&qH=28388ea49f54c5b8', 'https://www.flipkart.com/realme-c55-rainy-night-64-gb/product-reviews/itm054283d14c56e?pid=MOBGNBYJXR9BTBFT&lid=LSTMOBGNBYJXR9BTBFTO9NHKK&marketplace=FLIPKART&q=phones&store=tyy%2F4io&srno=s_1_10&otracker=search&fm=organic&iid=11af80a2-442d-42c5-a973-8d3d4a0a6833.MOBGNBYJXR9BTBFT.SEARCH&ppt=None&ppn=None&ssid=jpdg7q6f800000001694403932879&qH=28388ea49f54c5b8', 'https://www.flipkart.com/realme-c55-sunshower-64-gb/product-reviews/itm054283d14c56e?pid=MOBGNBYJCXN6WRB3&lid=LSTMOBGNBYJCXN6WRB3NDXTAJ&marketplace=FLIPKART&q=phones&store=tyy%2F4io&srno=s_1_11&otracker=search&fm=organic&iid=11af80a2-442d-42c5-a973-8d3d4a0a6833.MOBGNBYJCXN6WRB3.SEARCH&ppt=None&ppn=None&ssid=jpdg7q6f800000001694403932879&qH=28388ea49f54c5b8', 'https://www.flipkart.com/realme-c55-rainforest-64-gb/product-reviews/itm054283d14c56e?pid=MOBGNBYJTZYZJZM5&lid=LSTMOBGNBYJTZYZJZM58JKCAH&marketplace=FLIPKART&q=phones&store=tyy%2F4io&srno=s_1_12&otracker=search&fm=organic&iid=11af80a2-442d-42c5-a973-8d3d4a0a6833.MOBGNBYJTZYZJZM5.SEARCH&ppt=None&ppn=None&ssid=jpdg7q6f800000001694403932879&qH=28388ea49f54c5b8', 'https://www.flipkart.com/samsung-galaxy-f13-waterfall-blue-64-gb/product-reviews/itm583ef432b2b0c?pid=MOBGENJWBPFYJSFT&lid=LSTMOBGENJWBPFYJSFTP8FGOC&marketplace=FLIPKART&q=phones&store=tyy%2F4io&srno=s_1_13&otracker=search&fm=organic&iid=11af80a2-442d-42c5-a973-8d3d4a0a6833.MOBGENJWBPFYJSFT.SEARCH&ppt=None&ppn=None&ssid=jpdg7q6f800000001694403932879&qH=28388ea49f54c5b8', 'https://www.flipkart.com/realme-c55-sunshower-128-gb/product-reviews/itm054283d14c56e?pid=MOBGNBYJUA2G5HK4&lid=LSTMOBGNBYJUA2G5HK40FPVVJ&marketplace=FLIPKART&q=phones&store=tyy%2F4io&srno=s_1_14&otracker=search&fm=organic&iid=11af80a2-442d-42c5-a973-8d3d4a0a6833.MOBGNBYJUA2G5HK4.SEARCH&ppt=None&ppn=None&ssid=jpdg7q6f800000001694403932879&qH=28388ea49f54c5b8', 'https://www.flipkart.com/realme-c55-sunshower-64-gb/product-reviews/itm054283d14c56e?pid=MOBGNBYJDJ5YBVGQ&lid=LSTMOBGNBYJDJ5YBVGQ8JESXS&marketplace=FLIPKART&q=phones&store=tyy%2F4io&srno=s_1_15&otracker=search&fm=organic&iid=11af80a2-442d-42c5-a973-8d3d4a0a6833.MOBGNBYJDJ5YBVGQ.SEARCH&ppt=None&ppn=None&ssid=jpdg7q6f800000001694403932879&qH=28388ea49f54c5b8', 'https://www.flipkart.com/motorola-e13-aurora-green-64-gb/product-reviews/itmb52d8f826cd9a?pid=MOBGKHNBA55HDSZR&lid=LSTMOBGKHNBA55HDSZRHOAFME&marketplace=FLIPKART&q=phones&store=tyy%2F4io&srno=s_1_16&otracker=search&fm=organic&iid=11af80a2-442d-42c5-a973-8d3d4a0a6833.MOBGKHNBA55HDSZR.SEARCH&ppt=None&ppn=None&ssid=jpdg7q6f800000001694403932879&qH=28388ea49f54c5b8', 'https://www.flipkart.com/poco-c50-country-green-32-gb/product-reviews/itm0b3d5144d9c22?pid=MOBGK8WZYEJ3G5AA&lid=LSTMOBGK8WZYEJ3G5AAMF47BF&marketplace=FLIPKART&q=phones&store=tyy%2F4io&srno=s_1_17&otracker=search&fm=organic&iid=11af80a2-442d-42c5-a973-8d3d4a0a6833.MOBGK8WZYEJ3G5AA.SEARCH&ppt=None&ppn=None&ssid=jpdg7q6f800000001694403932879&qH=28388ea49f54c5b8', 'https://www.flipkart.com/realme-c55-rainy-night-64-gb/product-reviews/itm054283d14c56e?pid=MOBGNBYJVHS63AAY&lid=LSTMOBGNBYJVHS63AAY2TVRIY&marketplace=FLIPKART&q=phones&store=tyy%2F4io&srno=s_1_18&otracker=search&fm=organic&iid=11af80a2-442d-42c5-a973-8d3d4a0a6833.MOBGNBYJVHS63AAY.SEARCH&ppt=None&ppn=None&ssid=jpdg7q6f800000001694403932879&qH=28388ea49f54c5b8', 'https://www.flipkart.com/poco-c55-cool-blue-128-gb/product-reviews/itm26aca9fd143ba?pid=MOBGMXSWJHRVUWFE&lid=LSTMOBGMXSWJHRVUWFEKXH4XM&marketplace=FLIPKART&q=phones&store=tyy%2F4io&srno=s_1_19&otracker=search&fm=organic&iid=11af80a2-442d-42c5-a973-8d3d4a0a6833.MOBGMXSWJHRVUWFE.SEARCH&ppt=None&ppn=None&ssid=jpdg7q6f800000001694403932879&qH=28388ea49f54c5b8', 'https://www.flipkart.com/nokia-105-single-sim-keypad-mobile-phone-wireless-fm-radio/product-reviews/itm1e2206f816463?pid=MOBGQFVG6MXANY2Q&lid=LSTMOBGQFVG6MXANY2Q4HSZB8&marketplace=FLIPKART&q=phones&store=tyy%2F4io&srno=s_1_20&otracker=search&fm=organic&iid=11af80a2-442d-42c5-a973-8d3d4a0a6833.MOBGQFVG6MXANY2Q.SEARCH&ppt=None&ppn=None&ssid=jpdg7q6f800000001694403932879&qH=28388ea49f54c5b8']\n"
     ]
    }
   ],
   "source": [
    "from time import sleep\n",
    "from random import random\n",
    "import pandas as pd\n",
    "import requests\n",
    "from tqdm.notebook import tqdm\n",
    "from bs4 import BeautifulSoup\n",
    "from urllib.parse import urljoin\n",
    "import urllib.parse as urlparse\n",
    "from urllib.parse import parse_qs\n",
    "\n",
    "# Constants\n",
    "BASE_URL = 'https://www.flipkart.com/'\n",
    "SEARCH_QUERY = \"phones\"\n",
    "TOP_N_PRODUCTS = 20\n",
    "REVIEW_PAGES_TO_SCRAPE_FROM_PER_PRODUCT = 100 #10 Reviews exist per page\n",
    "\n",
    "SAMPLE_URL = \"https://www.flipkart.com/poco-m6-pro-5g-power-black-128-gb/p/itmef8fa46f89738?pid=MOBGRNZ3ER4N3K4F&lid=LSTMOBGRNZ3ER4N3K4FIYYGCU&marketplace=FLIPKART&q=phones&store=tyy%2F4io&spotlightTagId=TrendingId_tyy%2F4io&srno=s_1_1&otracker=search&otracker1=search&fm=Search&iid=4b216b86-7d32-47a6-924d-a4b1f3d52950.MOBGRNZ3ER4N3K4F.SEARCH&ppt=sp&ppn=sp&ssid=ygv5uzlqb40000001693306294200&qH=28388ea49f54c5b8\"\n",
    "r = requests.get(SAMPLE_URL)    \n",
    "soup = BeautifulSoup(r.content, 'html.parser') \n",
    "print(soup.prettify()[:500])\n",
    "\n",
    "# Extracting all review blocks\n",
    "## Note col._2wzgFH.K0kLPL means 3 entities namely 'col', ' _2wzgFH' and 'K0kLPL' \n",
    "## This is written in HTML as 'col _2wzgFH K0kLPL'\n",
    "## This can also be seen in Bullet 3\n",
    "\n",
    "rows = soup.find_all('div',attrs={'class':'col _2wzgFH'})\n",
    "print(f\"Count of rows(reviews):{len(rows)}\\n\\n\\n\")\n",
    "# iteration over all blocks\n",
    "for row in rows:\n",
    "    # Print a sample row(review html block)\n",
    "    # print(f\"row:\\n{row} \\n\\n\")\n",
    "    \n",
    "    # finding all rows within the block\n",
    "    sub_row = row.find_all('div',attrs={'class':'row'})\n",
    "        \n",
    "    # extracting text from 1st and 2nd row\n",
    "    rating = sub_row[0].find('div').text\n",
    "    print(f\"rating:{rating} \\n\\n\")\n",
    "    \n",
    "    summary = sub_row[0].find('p').text\n",
    "    print(f\"summary:{summary} \\n\\n\")\n",
    "    \n",
    "    review = sub_row[1].find_all('div')[2].text\n",
    "    print(f\"review:{review} \\n\\n\")\n",
    "    \n",
    "    location = sub_row[3].find('p',attrs={'class':'_2mcZGG'}).find_all('span')[1].text\n",
    "    location = \"\".join(location.split(\",\")[1:]).strip()\n",
    "    print(f\"location:{location} \\n\\n\")\n",
    "    \n",
    "    date = sub_row[3].find_all('p',attrs={'class':'_2sc7ZR'})[1].text\n",
    "    print(f\"date:{date} \\n\\n\")\n",
    "    \n",
    "    \n",
    "    sub_row_2 = row.find_all('div',attrs={'class':'_1e9_Zu'})[0].find_all('span',attrs={'class':'_3c3Px5'})\n",
    "    \n",
    "    upvotes = sub_row_2[0].text\n",
    "    print(f\"upvotes:{upvotes} \\n\\n\")\n",
    "    \n",
    "    downvotes = sub_row_2[1].text\n",
    "    print(f\"downvotes:{downvotes} \\n\\n\")\n",
    "    \n",
    "    break  \n",
    "  \n",
    "def get_popular_product_s_titles_and_urls(search_query : str, popular_products_count_limit : int = None):\n",
    "    \n",
    "    search_url = f\"{BASE_URL}search?q={SEARCH_QUERY}&sort=popularity\"\n",
    "    search_response = requests.get(search_url)\n",
    "    \n",
    "    # Pause the loop for 1-3 seconds to simulate natural setting not overwhelm the server with back to back requests without any pause\n",
    "    #sleep(randint(1,3))\n",
    "    \n",
    "    search_html_soup = BeautifulSoup(search_response.content, 'html.parser')\n",
    "    search_results_products = search_html_soup.find_all('div',attrs={'class':'_2kHMtA'})\n",
    "    \n",
    "    product_titles, product_urls,retail_prices,discount_perc,discounted_price = [],[],[],[],[]\n",
    "    \n",
    "    product_count = 0\n",
    "    \n",
    "    \n",
    "    for product in tqdm(search_results_products, desc=\"Search Results Iteration\", position=0, leave=True):\n",
    "        \n",
    "        ad_mention_subrow = product.find(\"div\", attrs={\"class\":\"_4HTuuX\"})\n",
    "        \n",
    "        is_ad = not not ad_mention_subrow\n",
    "        \n",
    "        if not is_ad:\n",
    "            \n",
    "            title_mention_subrow = product.find(\"a\", attrs={\"class\":\"_1fQZEK\"})\n",
    "            product_title=product.find('div', attrs={\"class\":\"_4rR01T\"}).text\n",
    "            product_relative_url = title_mention_subrow[\"href\"]\n",
    "            Retail_Price= product.find('div', attrs={\"class\":\"_3I9_wc _27UcVY\"}).text\n",
    "            DisPer=product.find('div', attrs={\"class\":\"_3Ay6Sb\"}).text\n",
    "            Disc_price=product.find('div', attrs={\"class\":\"_30jeq3 _1_WHN1\"}).text\n",
    "            #print(product_relative_url)\n",
    "            product_url = urljoin(BASE_URL,product_relative_url)\n",
    "            \n",
    "            parsed_url = urlparse.urlparse(product_url)\n",
    "            parsed_url_path = parsed_url.path\n",
    "            parsed_url_path_split = parsed_url_path.split(\"/\")\n",
    "            parsed_url_path_split[2] = \"product-reviews\"\n",
    "            parsed_url_path_modified = \"/\".join(parsed_url_path_split)\n",
    "            parsed_url_modified = parsed_url._replace(path=parsed_url_path_modified)\n",
    "            product_url = parsed_url_modified.geturl()\n",
    "            \n",
    "            \n",
    "            product_titles.append(product_title)\n",
    "           \n",
    "            product_urls.append(product_url)\n",
    "            retail_prices.append(Retail_Price)\n",
    "            discount_perc.append(DisPer)\n",
    "            discounted_price.append(Disc_price)\n",
    "            product_count += 1\n",
    "            \n",
    "            if popular_products_count_limit and (product_count >= popular_products_count_limit):\n",
    "                break\n",
    "    print(product_titles) \n",
    "    print(product_urls)\n",
    "    return product_titles, product_urls,retail_prices,discount_perc,discounted_price\n",
    "    \n",
    "product_titles, product_urls,retail_prices,discount_perc,discounted_price = get_popular_product_s_titles_and_urls(SEARCH_QUERY, TOP_N_PRODUCTS);"
   ]
  },
  {
   "cell_type": "code",
   "execution_count": 3,
   "id": "4d453078",
   "metadata": {},
   "outputs": [
    {
     "name": "stdout",
     "output_type": "stream",
     "text": [
      "+------------+--------------------+---------+-----------------------+\n",
      "| # Products | # Reviews Per Page | # Pages | # Total Reviews Count |\n",
      "+------------+--------------------+---------+-----------------------+\n",
      "|     20     |         10         |   100   |         20000         |\n",
      "+------------+--------------------+---------+-----------------------+\n"
     ]
    },
    {
     "data": {
      "application/vnd.jupyter.widget-view+json": {
       "model_id": "d994e11165074962b6b5d74462c84ace",
       "version_major": 2,
       "version_minor": 0
      },
      "text/plain": [
       "products:   0%|          | 0/20 [00:00<?, ?it/s]"
      ]
     },
     "metadata": {},
     "output_type": "display_data"
    },
    {
     "data": {
      "application/vnd.jupyter.widget-view+json": {
       "model_id": "",
       "version_major": 2,
       "version_minor": 0
      },
      "text/plain": [
       "review pages:   0%|          | 0/100 [00:00<?, ?it/s]"
      ]
     },
     "metadata": {},
     "output_type": "display_data"
    },
    {
     "data": {
      "application/vnd.jupyter.widget-view+json": {
       "model_id": "",
       "version_major": 2,
       "version_minor": 0
      },
      "text/plain": [
       "review pages:   0%|          | 0/100 [00:00<?, ?it/s]"
      ]
     },
     "metadata": {},
     "output_type": "display_data"
    },
    {
     "data": {
      "application/vnd.jupyter.widget-view+json": {
       "model_id": "",
       "version_major": 2,
       "version_minor": 0
      },
      "text/plain": [
       "review pages:   0%|          | 0/100 [00:00<?, ?it/s]"
      ]
     },
     "metadata": {},
     "output_type": "display_data"
    },
    {
     "data": {
      "application/vnd.jupyter.widget-view+json": {
       "model_id": "",
       "version_major": 2,
       "version_minor": 0
      },
      "text/plain": [
       "review pages:   0%|          | 0/100 [00:00<?, ?it/s]"
      ]
     },
     "metadata": {},
     "output_type": "display_data"
    },
    {
     "data": {
      "application/vnd.jupyter.widget-view+json": {
       "model_id": "",
       "version_major": 2,
       "version_minor": 0
      },
      "text/plain": [
       "review pages:   0%|          | 0/100 [00:00<?, ?it/s]"
      ]
     },
     "metadata": {},
     "output_type": "display_data"
    },
    {
     "data": {
      "application/vnd.jupyter.widget-view+json": {
       "model_id": "",
       "version_major": 2,
       "version_minor": 0
      },
      "text/plain": [
       "review pages:   0%|          | 0/100 [00:00<?, ?it/s]"
      ]
     },
     "metadata": {},
     "output_type": "display_data"
    },
    {
     "data": {
      "application/vnd.jupyter.widget-view+json": {
       "model_id": "",
       "version_major": 2,
       "version_minor": 0
      },
      "text/plain": [
       "review pages:   0%|          | 0/100 [00:00<?, ?it/s]"
      ]
     },
     "metadata": {},
     "output_type": "display_data"
    },
    {
     "data": {
      "application/vnd.jupyter.widget-view+json": {
       "model_id": "",
       "version_major": 2,
       "version_minor": 0
      },
      "text/plain": [
       "review pages:   0%|          | 0/100 [00:00<?, ?it/s]"
      ]
     },
     "metadata": {},
     "output_type": "display_data"
    },
    {
     "data": {
      "application/vnd.jupyter.widget-view+json": {
       "model_id": "",
       "version_major": 2,
       "version_minor": 0
      },
      "text/plain": [
       "review pages:   0%|          | 0/100 [00:00<?, ?it/s]"
      ]
     },
     "metadata": {},
     "output_type": "display_data"
    },
    {
     "data": {
      "application/vnd.jupyter.widget-view+json": {
       "model_id": "",
       "version_major": 2,
       "version_minor": 0
      },
      "text/plain": [
       "review pages:   0%|          | 0/100 [00:00<?, ?it/s]"
      ]
     },
     "metadata": {},
     "output_type": "display_data"
    },
    {
     "data": {
      "application/vnd.jupyter.widget-view+json": {
       "model_id": "",
       "version_major": 2,
       "version_minor": 0
      },
      "text/plain": [
       "review pages:   0%|          | 0/100 [00:00<?, ?it/s]"
      ]
     },
     "metadata": {},
     "output_type": "display_data"
    },
    {
     "data": {
      "application/vnd.jupyter.widget-view+json": {
       "model_id": "",
       "version_major": 2,
       "version_minor": 0
      },
      "text/plain": [
       "review pages:   0%|          | 0/100 [00:00<?, ?it/s]"
      ]
     },
     "metadata": {},
     "output_type": "display_data"
    },
    {
     "data": {
      "application/vnd.jupyter.widget-view+json": {
       "model_id": "",
       "version_major": 2,
       "version_minor": 0
      },
      "text/plain": [
       "review pages:   0%|          | 0/100 [00:00<?, ?it/s]"
      ]
     },
     "metadata": {},
     "output_type": "display_data"
    },
    {
     "data": {
      "application/vnd.jupyter.widget-view+json": {
       "model_id": "",
       "version_major": 2,
       "version_minor": 0
      },
      "text/plain": [
       "review pages:   0%|          | 0/100 [00:00<?, ?it/s]"
      ]
     },
     "metadata": {},
     "output_type": "display_data"
    },
    {
     "data": {
      "application/vnd.jupyter.widget-view+json": {
       "model_id": "",
       "version_major": 2,
       "version_minor": 0
      },
      "text/plain": [
       "review pages:   0%|          | 0/100 [00:00<?, ?it/s]"
      ]
     },
     "metadata": {},
     "output_type": "display_data"
    },
    {
     "data": {
      "application/vnd.jupyter.widget-view+json": {
       "model_id": "",
       "version_major": 2,
       "version_minor": 0
      },
      "text/plain": [
       "review pages:   0%|          | 0/100 [00:00<?, ?it/s]"
      ]
     },
     "metadata": {},
     "output_type": "display_data"
    },
    {
     "data": {
      "application/vnd.jupyter.widget-view+json": {
       "model_id": "",
       "version_major": 2,
       "version_minor": 0
      },
      "text/plain": [
       "review pages:   0%|          | 0/100 [00:00<?, ?it/s]"
      ]
     },
     "metadata": {},
     "output_type": "display_data"
    },
    {
     "data": {
      "application/vnd.jupyter.widget-view+json": {
       "model_id": "",
       "version_major": 2,
       "version_minor": 0
      },
      "text/plain": [
       "review pages:   0%|          | 0/100 [00:00<?, ?it/s]"
      ]
     },
     "metadata": {},
     "output_type": "display_data"
    },
    {
     "data": {
      "application/vnd.jupyter.widget-view+json": {
       "model_id": "",
       "version_major": 2,
       "version_minor": 0
      },
      "text/plain": [
       "review pages:   0%|          | 0/100 [00:00<?, ?it/s]"
      ]
     },
     "metadata": {},
     "output_type": "display_data"
    },
    {
     "data": {
      "application/vnd.jupyter.widget-view+json": {
       "model_id": "",
       "version_major": 2,
       "version_minor": 0
      },
      "text/plain": [
       "review pages:   0%|          | 0/100 [00:00<?, ?it/s]"
      ]
     },
     "metadata": {},
     "output_type": "display_data"
    },
    {
     "name": "stderr",
     "output_type": "stream",
     "text": [
      "IOPub data rate exceeded.\n",
      "The notebook server will temporarily stop sending output\n",
      "to the client in order to avoid crashing it.\n",
      "To change this limit, set the config variable\n",
      "`--NotebookApp.iopub_data_rate_limit`.\n",
      "\n",
      "Current values:\n",
      "NotebookApp.iopub_data_rate_limit=1000000.0 (bytes/sec)\n",
      "NotebookApp.rate_limit_window=3.0 (secs)\n",
      "\n"
     ]
    }
   ],
   "source": [
    "from prettytable import PrettyTable\n",
    "x = PrettyTable()\n",
    "x.field_names = [\"# Products\", \"# Reviews Per Page\", \"# Pages\", \"# Total Reviews Count\"]\n",
    "x.add_row([len(product_urls), 10, REVIEW_PAGES_TO_SCRAPE_FROM_PER_PRODUCT, len(product_urls)*10*REVIEW_PAGES_TO_SCRAPE_FROM_PER_PRODUCT])\n",
    "print(x)\n",
    "\n",
    "\n",
    "dataset = []\n",
    "#print(\"After dataset definition\")\n",
    "\n",
    "for idx, url in enumerate(tqdm(product_urls, desc='products')):\n",
    "    # iterating over review pages\n",
    "    #print(\"Inside first for loop\")\n",
    "    for i in tqdm(range(1,REVIEW_PAGES_TO_SCRAPE_FROM_PER_PRODUCT+1), desc=\"review pages\", position=0, leave=False):\n",
    "        parsed = urlparse.urlparse(url)\n",
    "        pid = parse_qs(parsed.query)['pid'][0]\n",
    "        URL = f\"{url}&page={i}\"\n",
    "        \n",
    "        r = requests.get(URL)\n",
    "        \n",
    "        # Pause the loop for 0-1 seconds to simulate natural setting not overwhelm the server with back to back requests without any pause\n",
    "        sleep(random())\n",
    "        soup = BeautifulSoup(r.content, 'html.parser') \n",
    "\n",
    "        rows = soup.find_all('div',attrs={'class':'col _2wzgFH K0kLPL'})\n",
    "\n",
    "        for row in rows:\n",
    "\n",
    "            # finding all rows within the block\n",
    "            sub_row = row.find_all('div',attrs={'class':'row'})\n",
    "\n",
    "            # extracting text from 1st 2nd and 4th row\n",
    "            rating = sub_row[0].find('div').text\n",
    "            summary = sub_row[0].find('p').text\n",
    "            summary = summary.strip()\n",
    "            review = sub_row[1].find_all('div')[2].text\n",
    "            review = review.strip()\n",
    "            location=\"\"\n",
    "            location_row = sub_row[3].find('p',attrs={'class':'_2mcZGG'})\n",
    "            if location_row:\n",
    "                location_row = location_row.find_all('span')\n",
    "                if len(location_row)>=2:\n",
    "                    location = location_row[1].text\n",
    "                    location = \"\".join(location.split(\",\")[1:]).strip()\n",
    "            date = sub_row[3].find_all('p',attrs={'class':'_2sc7ZR'})[1].text\n",
    "\n",
    "            sub_row_2 = row.find_all('div',attrs={'class':'_1e9_Zu'})[0].find_all('span',attrs={'class':'_3c3Px5'})\n",
    "\n",
    "            upvotes = sub_row_2[0].text\n",
    "            downvotes = sub_row_2[1].text\n",
    "        \n",
    "            #appending to data\n",
    "            dataset.append({'product_id':pid, 'product_title':product_titles[idx],'retail_price':retail_prices[idx],'disc_perc':discount_perc[idx],'disc_price':discounted_price[idx],'rating': rating, 'summary': summary, 'review': review, 'location' : location, 'date' : date, 'upvotes' : upvotes, 'downvotes' : downvotes})\n",
    "print(dataset)"
   ]
  },
  {
   "cell_type": "code",
   "execution_count": 4,
   "id": "85baf216",
   "metadata": {},
   "outputs": [],
   "source": [
    "df = pd.DataFrame(dataset)"
   ]
  },
  {
   "cell_type": "code",
   "execution_count": 5,
   "id": "b3fb6e1b",
   "metadata": {},
   "outputs": [
    {
     "name": "stdout",
     "output_type": "stream",
     "text": [
      "Count of reviews:16476\n"
     ]
    }
   ],
   "source": [
    "count_reviews = df.shape[0]\n",
    "print(f\"Count of reviews:{count_reviews}\")"
   ]
  },
  {
   "cell_type": "code",
   "execution_count": 6,
   "id": "d5c03779",
   "metadata": {},
   "outputs": [],
   "source": [
    "df.to_csv(\"./flipkart_reviews_datasetfinal.csv\", index=False)"
   ]
  },
  {
   "cell_type": "code",
   "execution_count": null,
   "id": "184c619e",
   "metadata": {},
   "outputs": [],
   "source": []
  }
 ],
 "metadata": {
  "kernelspec": {
   "display_name": "Python 3 (ipykernel)",
   "language": "python",
   "name": "python3"
  },
  "language_info": {
   "codemirror_mode": {
    "name": "ipython",
    "version": 3
   },
   "file_extension": ".py",
   "mimetype": "text/x-python",
   "name": "python",
   "nbconvert_exporter": "python",
   "pygments_lexer": "ipython3",
   "version": "3.11.4"
  }
 },
 "nbformat": 4,
 "nbformat_minor": 5
}
